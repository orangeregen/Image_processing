{
  "nbformat": 4,
  "nbformat_minor": 0,
  "metadata": {
    "colab": {
      "provenance": []
    },
    "kernelspec": {
      "name": "python3",
      "display_name": "Python 3"
    },
    "language_info": {
      "name": "python"
    }
  },
  "cells": [
    {
      "cell_type": "markdown",
      "source": [
        "**Задание на лабораторную работу №1**  \n",
        " Средствами numpy сгенерировать два вектора, транспонировать один из созданных векторов и найти их произведение."
      ],
      "metadata": {
        "id": "YGowmwE5o9RA"
      }
    },
    {
      "cell_type": "markdown",
      "source": [
        "> Замечание\n",
        "\n",
        "При транспонировании вектора-строки функцией a.transpose() или a.T ничего не изменится. Вектор, как был строкой, так строкой и останется. Это происходит потому, что массив `a` имеет только одну размерность.\n",
        "Самым простым способом транспонирования, является смена размерности:\n",
        "`a.reshape(-1, 1)`\n",
        "здесь -1 -- говорит NumPy вычислять размер автоматически"
      ],
      "metadata": {
        "id": "OUru5KNwtAYu"
      }
    },
    {
      "cell_type": "code",
      "source": [
        "import numpy as np\n",
        "\n",
        "#Создание генератора\n",
        "rnd = np.random.default_rng()\n",
        "\n",
        "# Генерация двух векторов\n",
        "vector1 = rnd.integers(-10, 10, 5)\n",
        "vector2 = rnd.integers(-10, 10, 5)\n",
        "\n",
        "# Транспонирование первого вектора\n",
        "vector1_T = vector1.reshape(-1, 1)\n",
        "\n",
        "# Нахождение произведения\n",
        "result = np.dot(vector1_T, vector2.reshape(1, -1))\n",
        "result2 = np.outer(vector1_T, vector2)\n",
        "\n",
        "print(\"Первый вектор:\", vector1)\n",
        "print(\"Второй вектор:\", vector2)\n",
        "print(\"\\nТранспонированный первый вектор:\")\n",
        "print(vector1_T)\n",
        "print(\"\\nРезультат произведения векторов:\")\n",
        "print(result,\"\\n\")\n",
        "print(result2)"
      ],
      "metadata": {
        "colab": {
          "base_uri": "https://localhost:8080/"
        },
        "id": "RmATsItRmOjy",
        "outputId": "4e764601-edf4-4bc9-bf81-5f76521f5c4d"
      },
      "execution_count": 3,
      "outputs": [
        {
          "output_type": "stream",
          "name": "stdout",
          "text": [
            "Первый вектор: [-9 -4  3  1  3]\n",
            "Второй вектор: [-10  -7  -4   8   7]\n",
            "\n",
            "Транспонированный первый вектор:\n",
            "[[-9]\n",
            " [-4]\n",
            " [ 3]\n",
            " [ 1]\n",
            " [ 3]]\n",
            "\n",
            "Результат произведения векторов:\n",
            "[[ 90  63  36 -72 -63]\n",
            " [ 40  28  16 -32 -28]\n",
            " [-30 -21 -12  24  21]\n",
            " [-10  -7  -4   8   7]\n",
            " [-30 -21 -12  24  21]] \n",
            "\n",
            "[[ 90  63  36 -72 -63]\n",
            " [ 40  28  16 -32 -28]\n",
            " [-30 -21 -12  24  21]\n",
            " [-10  -7  -4   8   7]\n",
            " [-30 -21 -12  24  21]]\n"
          ]
        }
      ]
    }
  ]
}